{
 "cells": [
  {
   "cell_type": "code",
   "execution_count": 1,
   "metadata": {},
   "outputs": [],
   "source": [
    "import os\n",
    "import os.path as path\n",
    "import configparser as config\n",
    "import datetime as date\n",
    "import pandas as pd\n",
    "import parse"
   ]
  },
  {
   "cell_type": "code",
   "execution_count": 27,
   "metadata": {},
   "outputs": [],
   "source": [
    "path_history = 'resource/history'\n",
    "meta_file = 'meta.ini'\n",
    "parser = config.ConfigParser()\n",
    "cur_date = date.datetime.now()"
   ]
  },
  {
   "cell_type": "code",
   "execution_count": null,
   "metadata": {},
   "outputs": [],
   "source": [
    "# Generate four tournaments\n",
    "tournaments = [1, 2, 3, 4]\n",
    "for no in tournaments:\n",
    "    root = 'T' + str(no)\n",
    "    try:\n",
    "        uri = path.join(path_history, root)\n",
    "        meta_path = path.join(uri, meta_file)\n",
    "        meta = config.ConfigParser()\n",
    "        meta.add_section('META')\n",
    "        meta['META']['No'] = str(no)\n",
    "        meta['META']['Title'] = 'Foo' + str(no)\n",
    "        meta['META']['Photos'] = str(3)\n",
    "        meta['META']['Date'] = cur_date.strftime('%Y-%m-%d')\n",
    "        meta['META']['URI'] = uri\n",
    "        os.mkdir(uri)\n",
    "        with open(meta_path, 'w') as file:\n",
    "            meta.write(file)\n",
    "    except OSError:\n",
    "        print('OSError Encountered!')\n"
   ]
  },
  {
   "cell_type": "code",
   "execution_count": null,
   "metadata": {},
   "outputs": [],
   "source": [
    "# Walk History Directories\n",
    "for walked, dirs, files in os.walk(path_history):\n",
    "    ls = dirs\n",
    "    break"
   ]
  },
  {
   "cell_type": "code",
   "execution_count": null,
   "metadata": {},
   "outputs": [],
   "source": [
    "for name in ls:\n",
    "    dir_path = path.join(path_history, name)\n",
    "    for walked, dirs, files in os.walk(dir_path):\n",
    "        fs = files\n",
    "        break\n",
    "    if meta_file in fs:\n",
    "        file_path = path.join(dir_path, meta_file)\n",
    "        parser.read(file_path)\n",
    "        info = parser['META']\n",
    "        print(info['Title'], info['Photos'], info['Date'], info['URI'])\n",
    "        \n",
    "for walked, dirs, files in os.walk(info['URI']):\n",
    "    fs = files\n",
    "    break"
   ]
  },
  {
   "cell_type": "code",
   "execution_count": 11,
   "metadata": {},
   "outputs": [
    {
     "name": "stdout",
     "output_type": "stream",
     "text": [
      "['#ffd700', '#adff2f', '#00ffff', '#f0e68c', '#ffa500', '#90ee90', '#ffff00', '#00ff00']\n",
      "['#00ff00', '#ffff00', '#90ee90', '#ffa500', '#f0e68c', '#00ffff', '#adff2f', '#ffd700']\n"
     ]
    }
   ],
   "source": [
    "parser = config.ConfigParser()\n",
    "parser.read('config.ini')\n",
    "colors = parser['MAIN']['Highlights'].split(',')\n",
    "print(colors)\n",
    "colors.reverse()\n",
    "print(colors)"
   ]
  },
  {
   "cell_type": "code",
   "execution_count": 20,
   "metadata": {},
   "outputs": [],
   "source": [
    "import tkinter as tk\n",
    "import tkinter.ttk as ttk\n",
    "\n",
    "root = tk.Tk()\n",
    "style = ttk.Style()\n",
    "root.style = style\n",
    "style.configure('Main.TButton', width = 100)\n",
    "#print(style.layout('main.button'))\n",
    "btn = ttk.Button(root, text = 'Enter')\n",
    "btn['style'] = 'Main.TButton'\n",
    "btn.pack()\n",
    "tk.mainloop()"
   ]
  }
 ],
 "metadata": {
  "kernelspec": {
   "display_name": "Python 3",
   "language": "python",
   "name": "python3"
  },
  "language_info": {
   "codemirror_mode": {
    "name": "ipython",
    "version": 3
   },
   "file_extension": ".py",
   "mimetype": "text/x-python",
   "name": "python",
   "nbconvert_exporter": "python",
   "pygments_lexer": "ipython3",
   "version": "3.6.4"
  }
 },
 "nbformat": 4,
 "nbformat_minor": 2
}
